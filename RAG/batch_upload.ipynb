{
 "cells": [
  {
   "cell_type": "code",
   "execution_count": 1,
   "metadata": {},
   "outputs": [],
   "source": [
    "import weaviate\n",
    "from weaviate.classes.init import Auth\n",
    "from weaviate.classes.config import Configure\n",
    "import weaviate.classes.config as wc\n",
    "import os\n",
    "import json\n"
   ]
  },
  {
   "cell_type": "code",
   "execution_count": null,
   "metadata": {},
   "outputs": [],
   "source": [
    "'''!!!!INSERT YOUR KEYS AND URL HERE!!!!'''\n",
    "\n",
    "wcd_url = ''\n",
    "wcd_api_key = ''\n",
    "cohere_api_key = ''\n"
   ]
  },
  {
   "cell_type": "code",
   "execution_count": 3,
   "metadata": {},
   "outputs": [],
   "source": [
    "client = weaviate.connect_to_weaviate_cloud(\n",
    "    cluster_url=wcd_url,                                    # Replace with your Weaviate Cloud URL\n",
    "    auth_credentials=Auth.api_key(wcd_api_key),             # Replace with your Weaviate Cloud key\n",
    "    headers={\"X-Cohere-Api-Key\": cohere_api_key},           # Replace with your Cohere API key\n",
    ")\n",
    "\n",
    "# print(client.is_ready())  # Should print: `True`\n",
    "\n",
    "# client.close()  # Free up resources"
   ]
  },
  {
   "cell_type": "code",
   "execution_count": 4,
   "metadata": {},
   "outputs": [
    {
     "data": {
      "text/plain": [
       "<weaviate.collections.collection.sync.Collection at 0x10ab79d10>"
      ]
     },
     "execution_count": 4,
     "metadata": {},
     "output_type": "execute_result"
    }
   ],
   "source": [
    "# Recreate the Louisiana collection with the updated schema\n",
    "client.collections.create(\n",
    "    name=\"Transcripts\",\n",
    "    properties=[\n",
    "        wc.Property(name=\"text\", data_type=wc.DataType.TEXT),\n",
    "        wc.Property(name=\"start\", data_type=wc.DataType.NUMBER),\n",
    "        wc.Property(name=\"duration\", data_type=wc.DataType.NUMBER),\n",
    "        wc.Property(name=\"video_id\", data_type=wc.DataType.TEXT),\n",
    "        wc.Property(name=\"state\", data_type=wc.DataType.TEXT)\n",
    "    ],\n",
    "    # Configure the vectorizer module (Cohere or OpenAI depending on your keys)\n",
    "    vectorizer_config=wc.Configure.Vectorizer.text2vec_cohere(),\n",
    "    # Configure the generative module\n",
    "    generative_config=wc.Configure.Generative.cohere()\n",
    ")"
   ]
  },
  {
   "cell_type": "code",
   "execution_count": 5,
   "metadata": {},
   "outputs": [
    {
     "name": "stdout",
     "output_type": "stream",
     "text": [
      "Processing state: Mississippi\n",
      "Processing state: Arkansas\n",
      "Processing state: Louisiana\n",
      "Batch upload completed.\n"
     ]
    }
   ],
   "source": [
    "json_dir = \"../States\"\n",
    "\n",
    "transcripts = client.collections.get(\"Transcripts\")\n",
    "state_dirs = [d for d in os.listdir(json_dir) if os.path.isdir(os.path.join(json_dir, d))]\n",
    "\n",
    "\n",
    "error_count = 0\n",
    "for state in state_dirs:\n",
    "    state_dir = os.path.join(json_dir, state)\n",
    "    print(f\"Processing state: {state}\")\n",
    "\n",
    "    # Get the transcripts collection\n",
    "    transcripts = client.collections.get(\"Transcripts\")\n",
    "\n",
    "    with transcripts.batch.dynamic() as batch:\n",
    "        for filename in os.listdir(state_dir):\n",
    "            if filename.endswith('.json'):\n",
    "                file_path = os.path.join(state_dir, filename)\n",
    "                with open(file_path, \"r\") as f:\n",
    "                    try:\n",
    "                        data = json.load(f)\n",
    "                        if isinstance(data, list):\n",
    "                            for item in data:\n",
    "                                if isinstance(item, dict):\n",
    "                                    batch.add_object({\n",
    "                                        \"text\": item.get(\"text\", \"\"),\n",
    "                                        \"start\": item.get(\"start\", 0),\n",
    "                                        \"duration\": item.get(\"duration\", 0),\n",
    "                                        \"state\": state  # Add the state name from the directory\n",
    "                                    })\n",
    "                                else:\n",
    "                                    print(f\"Skipping invalid entry in {filename}: {item}\")\n",
    "                        else:\n",
    "                            print(f\"Unexpected JSON structure in {filename}: {type(data)}\")\n",
    "                    except Exception as e:\n",
    "                        print(f\"Failed to process {filename}: {e}\")\n",
    "                        error_count += 1\n",
    "                        if error_count > 10:\n",
    "                            print(\"Batch import stopped due to excessive errors.\")\n",
    "                            break\n",
    "\n",
    "    failed_objects = transcripts.batch.failed_objects\n",
    "    if failed_objects:\n",
    "        print(f\"Number of failed imports for {state}: {len(failed_objects)}\")\n",
    "        print(f\"First failed object: {failed_objects[0]}\")\n",
    "\n",
    "print(\"Batch upload completed.\")\n"
   ]
  }
 ],
 "metadata": {
  "kernelspec": {
   "display_name": "Python 3",
   "language": "python",
   "name": "python3"
  },
  "language_info": {
   "codemirror_mode": {
    "name": "ipython",
    "version": 3
   },
   "file_extension": ".py",
   "mimetype": "text/x-python",
   "name": "python",
   "nbconvert_exporter": "python",
   "pygments_lexer": "ipython3",
   "version": "3.11.1"
  }
 },
 "nbformat": 4,
 "nbformat_minor": 2
}
