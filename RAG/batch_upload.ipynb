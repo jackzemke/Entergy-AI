{
 "cells": [
  {
   "cell_type": "code",
   "execution_count": 5,
   "metadata": {},
   "outputs": [],
   "source": [
    "import weaviate\n",
    "from weaviate.classes.init import Auth\n",
    "from weaviate.classes.config import Configure\n",
    "import weaviate.classes.config as wc\n",
    "import os\n",
    "import json\n",
    "import re\n"
   ]
  },
  {
   "cell_type": "code",
   "execution_count": null,
   "metadata": {},
   "outputs": [],
   "source": [
    "'''!!!!INSERT YOUR KEYS AND URL HERE!!!!'''\n",
    "from dotenv import load_dotenv\n",
    "\n",
    "load_dotenv()\n",
    "\n",
    "wcd_url = os.getenv('WEAVIATE_URL')\n",
    "wcd_api_key = os.getenv('WEAVIATE_KEY')\n",
    "cohere_api_key = os.getenv('COHERE_KEY')\n"
   ]
  },
  {
   "cell_type": "code",
   "execution_count": null,
   "metadata": {},
   "outputs": [],
   "source": [
    "client = weaviate.connect_to_weaviate_cloud(\n",
    "    cluster_url=wcd_url,                                    \n",
    "    auth_credentials=Auth.api_key(wcd_api_key),             \n",
    "    headers={\"X-Cohere-Api-Key\": cohere_api_key},           \n",
    ")\n",
    "\n",
    "# print(client.is_ready())  # Should print: `True`\n",
    "\n",
    "# client.close()  # Free up resources"
   ]
  },
  {
   "cell_type": "code",
   "execution_count": 15,
   "metadata": {},
   "outputs": [
    {
     "data": {
      "text/plain": [
       "<weaviate.collections.collection.sync.Collection at 0x10c79df70>"
      ]
     },
     "execution_count": 15,
     "metadata": {},
     "output_type": "execute_result"
    }
   ],
   "source": [
    "# Do not run - Collection exists\n",
    "\n",
    "client.collections.create(\n",
    "    name=\"TranscriptsV2\",\n",
    "    properties=[\n",
    "        wc.Property(name=\"text\", data_type=wc.DataType.TEXT),\n",
    "        wc.Property(name=\"start\", data_type=wc.DataType.NUMBER),\n",
    "        wc.Property(name=\"duration\", data_type=wc.DataType.NUMBER),\n",
    "        wc.Property(name=\"video_id\", data_type=wc.DataType.TEXT),\n",
    "        wc.Property(name=\"state\", data_type=wc.DataType.TEXT)\n",
    "    ],\n",
    "    # Configure the vectorizer module\n",
    "    vectorizer_config=wc.Configure.Vectorizer.text2vec_cohere(),\n",
    "    # Configure the generative module\n",
    "    generative_config=wc.Configure.Generative.cohere()\n",
    ")"
   ]
  },
  {
   "cell_type": "code",
   "execution_count": 9,
   "metadata": {},
   "outputs": [],
   "source": [
    "# %%\n",
    "def combine_segments(data, window_size=3, video_id=\"unknown\"):\n",
    "    \"\"\"\n",
    "    Groups transcript segments into larger chunks for better retrieval.\n",
    "    \n",
    "    Args:\n",
    "        data (list): List of transcript segments (dict with 'text', 'start', 'duration').\n",
    "        window_size (int): Number of consecutive segments to merge.\n",
    "        video_id (str): Identifier for the video (YouTube video ID).\n",
    "    \n",
    "    Returns:\n",
    "        list: List of combined transcript chunks.\n",
    "    \"\"\"\n",
    "    combined_segments = []\n",
    "    for i in range(0, len(data), window_size):\n",
    "        window = data[i:i + window_size]\n",
    "\n",
    "        # Filter out empty or single-word segments\n",
    "        filtered_text = [seg[\"text\"] for seg in window if len(seg[\"text\"].split()) > 1]\n",
    "\n",
    "        if filtered_text:\n",
    "            combined_text = \" \".join(filtered_text)  # Merge text from multiple segments\n",
    "            combined_segments.append({\n",
    "                \"text\": combined_text,\n",
    "                \"start\": window[0][\"start\"],  # Start time of the first segment in the window\n",
    "                \"duration\": sum(seg[\"duration\"] for seg in window),  # Total duration of the window\n",
    "                \"video_id\": video_id  # Ensure video_id is included\n",
    "            })\n",
    "\n",
    "    return combined_segments\n",
    "\n",
    "# %%\n",
    "# Function to extract video ID from filename\n",
    "def extract_video_id(filename):\n",
    "    # Common pattern for YouTube video IDs in filenames\n",
    "    video_id_match = re.search(r'([a-zA-Z0-9_-]{11})', filename)\n",
    "    if video_id_match:\n",
    "        return video_id_match.group(1)\n",
    "    return \"unknown\""
   ]
  },
  {
   "cell_type": "code",
   "execution_count": null,
   "metadata": {},
   "outputs": [
    {
     "name": "stdout",
     "output_type": "stream",
     "text": [
      "Processing state: Mississippi\n",
      "Processing state: Arkansas\n",
      "Processing state: Louisiana\n",
      "Batch upload completed.\n"
     ]
    }
   ],
   "source": [
    "# json_dir = \"../States\"\n",
    "\n",
    "# transcripts = client.collections.get(\"Transcripts\")\n",
    "# state_dirs = [d for d in os.listdir(json_dir) if os.path.isdir(os.path.join(json_dir, d))]\n",
    "\n",
    "\n",
    "# error_count = 0\n",
    "# for state in state_dirs:\n",
    "#     state_dir = os.path.join(json_dir, state)\n",
    "#     print(f\"Processing state: {state}\")\n",
    "\n",
    "#     # Get the transcripts collection\n",
    "#     transcripts = client.collections.get(\"Transcripts\")\n",
    "\n",
    "#     with transcripts.batch.dynamic() as batch:\n",
    "#         for filename in os.listdir(state_dir):\n",
    "#             if filename.endswith('.json'):\n",
    "#                 file_path = os.path.join(state_dir, filename)\n",
    "#                 with open(file_path, \"r\") as f:\n",
    "#                     try:\n",
    "#                         data = json.load(f)\n",
    "#                         if isinstance(data, list):\n",
    "#                             for item in data:\n",
    "#                                 if isinstance(item, dict):\n",
    "#                                     batch.add_object({\n",
    "#                                         \"text\": item.get(\"text\", \"\"),\n",
    "#                                         \"start\": item.get(\"start\", 0),\n",
    "#                                         \"duration\": item.get(\"duration\", 0),\n",
    "#                                         \"state\": state  # Add the state name from the directory\n",
    "#                                     })\n",
    "#                                 else:\n",
    "#                                     print(f\"Skipping invalid entry in {filename}: {item}\")\n",
    "#                         else:\n",
    "#                             print(f\"Unexpected JSON structure in {filename}: {type(data)}\")\n",
    "#                     except Exception as e:\n",
    "#                         print(f\"Failed to process {filename}: {e}\")\n",
    "#                         error_count += 1\n",
    "#                         if error_count > 10:\n",
    "#                             print(\"Batch import stopped due to excessive errors.\")\n",
    "#                             break\n",
    "\n",
    "#     failed_objects = transcripts.batch.failed_objects\n",
    "#     if failed_objects:\n",
    "#         print(f\"Number of failed imports for {state}: {len(failed_objects)}\")\n",
    "#         print(f\"First failed object: {failed_objects[0]}\")\n",
    "\n",
    "# print(\"Batch upload completed.\")\n"
   ]
  },
  {
   "cell_type": "code",
   "execution_count": 13,
   "metadata": {},
   "outputs": [
    {
     "name": "stdout",
     "output_type": "stream",
     "text": [
      "Current working directory: /Users/petersapountzis/Desktop/tulane/spring2025/cmps4010/Entergy-AI/RAG\n"
     ]
    }
   ],
   "source": [
    "current_dir = os.getcwd()\n",
    "print(f\"Current working directory: {current_dir}\")"
   ]
  },
  {
   "cell_type": "code",
   "execution_count": 16,
   "metadata": {},
   "outputs": [
    {
     "name": "stdout",
     "output_type": "stream",
     "text": [
      "Processing directory: /Users/petersapountzis/Desktop/tulane/spring2025/cmps4010/Entergy-AI/parsers/ARK_PSC_transcripts\n",
      "Processing directory: /Users/petersapountzis/Desktop/tulane/spring2025/cmps4010/Entergy-AI/parsers/LA_PSC_transcripts\n",
      "Processing directory: /Users/petersapountzis/Desktop/tulane/spring2025/cmps4010/Entergy-AI/parsers/MISS_PSC_transcripts\n",
      "Batch upload completed.\n"
     ]
    }
   ],
   "source": [
    "transcripts = client.collections.get(\"TranscriptsV2\")\n",
    "\n",
    "\n",
    "json_dir = \"/Users/petersapountzis/Desktop/tulane/spring2025/cmps4010/Entergy-AI/parsers\"  # Root directory for parsers\n",
    "transcript_dirs = [\n",
    "    os.path.join(json_dir, \"ARK_PSC_transcripts\"),\n",
    "    os.path.join(json_dir, \"LA_PSC_transcripts\"),\n",
    "    os.path.join(json_dir, \"MISS_PSC_transcripts\")\n",
    "]\n",
    "\n",
    "window_size = 3  # Number of segments to combine\n",
    "error_count = 0\n",
    "for transcript_dir in transcript_dirs:\n",
    "    # Extract state from directory name\n",
    "    state_match = re.search(r'([A-Z]+)_PSC', os.path.basename(transcript_dir))\n",
    "    state = state_match.group(1) if state_match else \"unknown\"\n",
    "    \n",
    "    print(f\"Processing directory: {transcript_dir}\")\n",
    "    \n",
    "    with transcripts.batch.dynamic() as batch:\n",
    "        for filename in os.listdir(transcript_dir):\n",
    "            if filename.endswith('.json'):\n",
    "                file_path = os.path.join(transcript_dir, filename)\n",
    "                try:\n",
    "                    with open(file_path, \"r\") as f:\n",
    "                        data = json.load(f)\n",
    "                        \n",
    "                        # Extract video ID from filename\n",
    "                        video_id = os.path.splitext(filename)[0]\n",
    "                        \n",
    "                        if isinstance(data, list):\n",
    "                            # Combine segments for better context\n",
    "                            combined_data = combine_segments(data, window_size, video_id)\n",
    "                            \n",
    "                            for item in combined_data:\n",
    "                                if isinstance(item, dict):\n",
    "                                    # Add state to the object\n",
    "                                    item[\"state\"] = state\n",
    "                                    batch.add_object(item)\n",
    "                                else:\n",
    "                                    print(f\"Skipping invalid entry in {filename}: {item}\")\n",
    "                        else:\n",
    "                            print(f\"Unexpected JSON structure in {filename}: {type(data)}\")\n",
    "                except Exception as e:\n",
    "                    print(f\"Failed to process {filename}: {e}\")\n",
    "                    error_count += 1\n",
    "                    if error_count > 10:\n",
    "                        print(\"Batch import stopped due to excessive errors.\")\n",
    "                        break\n",
    "\n",
    "    failed_objects = transcripts.batch.failed_objects\n",
    "    if failed_objects:\n",
    "        print(f\"Number of failed imports for {state}: {len(failed_objects)}\")\n",
    "        print(f\"First failed object: {failed_objects[0]}\")\n",
    "\n",
    "print(\"Batch upload completed.\")\n"
   ]
  },
  {
   "cell_type": "code",
   "execution_count": null,
   "metadata": {},
   "outputs": [],
   "source": []
  }
 ],
 "metadata": {
  "kernelspec": {
   "display_name": "Python 3",
   "language": "python",
   "name": "python3"
  },
  "language_info": {
   "codemirror_mode": {
    "name": "ipython",
    "version": 3
   },
   "file_extension": ".py",
   "mimetype": "text/x-python",
   "name": "python",
   "nbconvert_exporter": "python",
   "pygments_lexer": "ipython3",
   "version": "3.12.5"
  }
 },
 "nbformat": 4,
 "nbformat_minor": 2
}
