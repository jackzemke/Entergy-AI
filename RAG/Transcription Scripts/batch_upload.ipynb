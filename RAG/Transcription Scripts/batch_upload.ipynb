{
 "cells": [
  {
   "cell_type": "code",
   "execution_count": 3,
   "metadata": {},
   "outputs": [],
   "source": [
    "import weaviate\n",
    "from weaviate.classes.init import Auth\n",
    "from weaviate.classes.config import Configure\n",
    "import weaviate.classes.config as wc\n",
    "import os\n",
    "import json\n",
    "import re\n"
   ]
  },
  {
   "cell_type": "code",
   "execution_count": null,
   "metadata": {},
   "outputs": [],
   "source": [
    "'''!!!!INSERT YOUR KEYS AND URL HERE!!!!'''\n",
    "from dotenv import load_dotenv\n",
    "\n",
    "load_dotenv()\n",
    "\n",
    "# wcd_url = os.getenv('WEAVIATE_URL')\n",
    "# wcd_api_key = os.getenv('WEAVIATE_KEY')\n",
    "# cohere_api_key = os.getenv('COHERE_KEY')\n",
    "\n",
    "wcd_url = ''\n",
    "wcd_api_key = ''\n",
    "cohere_api_key = ''\n"
   ]
  },
  {
   "cell_type": "code",
   "execution_count": 73,
   "metadata": {},
   "outputs": [],
   "source": [
    "client = weaviate.connect_to_weaviate_cloud(\n",
    "    cluster_url=wcd_url,                                    \n",
    "    auth_credentials=Auth.api_key(wcd_api_key),             \n",
    "    headers={\"X-Cohere-Api-Key\": cohere_api_key},           \n",
    ")\n",
    "\n",
    "# print(client.is_ready())  # Should print: `True`\n",
    "\n",
    "# client.close()  # Free up resources"
   ]
  },
  {
   "cell_type": "code",
   "execution_count": 15,
   "metadata": {},
   "outputs": [
    {
     "data": {
      "text/plain": [
       "<weaviate.collections.collection.sync.Collection at 0x10c79df70>"
      ]
     },
     "execution_count": 15,
     "metadata": {},
     "output_type": "execute_result"
    }
   ],
   "source": [
    "# Do not run - Collection exists\n",
    "\n",
    "client.collections.create(\n",
    "    name=\"TranscriptsV2\",\n",
    "    properties=[\n",
    "        wc.Property(name=\"text\", data_type=wc.DataType.TEXT),\n",
    "        wc.Property(name=\"start\", data_type=wc.DataType.NUMBER),\n",
    "        wc.Property(name=\"duration\", data_type=wc.DataType.NUMBER),\n",
    "        wc.Property(name=\"video_id\", data_type=wc.DataType.TEXT),\n",
    "        wc.Property(name=\"state\", data_type=wc.DataType.TEXT)\n",
    "    ],\n",
    "    # Configure the vectorizer module\n",
    "    vectorizer_config=wc.Configure.Vectorizer.text2vec_cohere(),\n",
    "    # Configure the generative module\n",
    "    generative_config=wc.Configure.Generative.cohere()\n",
    ")"
   ]
  },
  {
   "cell_type": "code",
   "execution_count": 9,
   "metadata": {},
   "outputs": [],
   "source": [
    "# %%\n",
    "def combine_segments(data, window_size=3, video_id=\"unknown\"):\n",
    "    \"\"\"\n",
    "    Groups transcript segments into larger chunks for better retrieval.\n",
    "    \n",
    "    Args:\n",
    "        data (list): List of transcript segments (dict with 'text', 'start', 'duration').\n",
    "        window_size (int): Number of consecutive segments to merge.\n",
    "        video_id (str): Identifier for the video (YouTube video ID).\n",
    "    \n",
    "    Returns:\n",
    "        list: List of combined transcript chunks.\n",
    "    \"\"\"\n",
    "    combined_segments = []\n",
    "    for i in range(0, len(data), window_size):\n",
    "        window = data[i:i + window_size]\n",
    "\n",
    "        # Filter out empty or single-word segments\n",
    "        filtered_text = [seg[\"text\"] for seg in window if len(seg[\"text\"].split()) > 1]\n",
    "\n",
    "        if filtered_text:\n",
    "            combined_text = \" \".join(filtered_text)  # Merge text from multiple segments\n",
    "            combined_segments.append({\n",
    "                \"text\": combined_text,\n",
    "                \"start\": window[0][\"start\"],  # Start time of the first segment in the window\n",
    "                \"duration\": sum(seg[\"duration\"] for seg in window),  # Total duration of the window\n",
    "                \"video_id\": video_id  # Ensure video_id is included\n",
    "            })\n",
    "\n",
    "    return combined_segments\n",
    "\n",
    "# %%\n",
    "# Function to extract video ID from filename\n",
    "def extract_video_id(filename):\n",
    "    # Common pattern for YouTube video IDs in filenames\n",
    "    video_id_match = re.search(r'([a-zA-Z0-9_-]{11})', filename)\n",
    "    if video_id_match:\n",
    "        return video_id_match.group(1)\n",
    "    return \"unknown\""
   ]
  },
  {
   "cell_type": "code",
   "execution_count": null,
   "metadata": {},
   "outputs": [
    {
     "name": "stdout",
     "output_type": "stream",
     "text": [
      "Renaming\n",
      "  TX/combined/2025-01-31_transcript.json\n",
      "→ TX/combined/TEXAS_PSC_2025-01-31.json\n",
      "Renaming\n",
      "  TX/combined/2024-04-25_transcript.json\n",
      "→ TX/combined/TEXAS_PSC_2024-04-25.json\n",
      "Renaming\n",
      "  TX/combined/2024-12-19_transcript.json\n",
      "→ TX/combined/TEXAS_PSC_2024-12-19.json\n",
      "Renaming\n",
      "  TX/combined/2025-02-20_transcript.json\n",
      "→ TX/combined/TEXAS_PSC_2025-02-20.json\n",
      "Renaming\n",
      "  TX/combined/2024-07-25_transcript.json\n",
      "→ TX/combined/TEXAS_PSC_2024-07-25.json\n",
      "Renaming\n",
      "  TX/combined/2024-08-15_transcript.json\n",
      "→ TX/combined/TEXAS_PSC_2024-08-15.json\n",
      "Renaming\n",
      "  TX/combined/2024-05-02_transcript.json\n",
      "→ TX/combined/TEXAS_PSC_2024-05-02.json\n",
      "Renaming\n",
      "  TX/combined/2024-08-29_transcript.json\n",
      "→ TX/combined/TEXAS_PSC_2024-08-29.json\n",
      "Renaming\n",
      "  TX/combined/2024-06-13_transcript.json\n",
      "→ TX/combined/TEXAS_PSC_2024-06-13.json\n",
      "Renaming\n",
      "  TX/combined/2024-10-03_transcript.json\n",
      "→ TX/combined/TEXAS_PSC_2024-10-03.json\n",
      "Renaming\n",
      "  TX/combined/2025-02-13_transcript.json\n",
      "→ TX/combined/TEXAS_PSC_2025-02-13.json\n",
      "Renaming\n",
      "  TX/combined/2024-07-11_transcript.json\n",
      "→ TX/combined/TEXAS_PSC_2024-07-11.json\n",
      "Renaming\n",
      "  TX/combined/2025-03-13_transcript.json\n",
      "→ TX/combined/TEXAS_PSC_2025-03-13.json\n",
      "Renaming\n",
      "  TX/combined/2024-05-16_transcript.json\n",
      "→ TX/combined/TEXAS_PSC_2024-05-16.json\n",
      "Renaming\n",
      "  TX/combined/2024-12-12_transcript.json\n",
      "→ TX/combined/TEXAS_PSC_2024-12-12.json\n",
      "Renaming\n",
      "  TX/combined/2024-09-26_transcript.json\n",
      "→ TX/combined/TEXAS_PSC_2024-09-26.json\n",
      "Renaming\n",
      "  TX/combined/2025-01-16_transcript.json\n",
      "→ TX/combined/TEXAS_PSC_2025-01-16.json\n",
      "Renaming\n",
      "  TX/combined/2024-05-23_transcript.json\n",
      "→ TX/combined/TEXAS_PSC_2024-05-23.json\n",
      "Renaming\n",
      "  TX/combined/2024-11-21_transcript.json\n",
      "→ TX/combined/TEXAS_PSC_2024-11-21.json\n",
      "Renaming\n",
      "  TX/combined/2024-09-12_transcript.json\n",
      "→ TX/combined/TEXAS_PSC_2024-09-12.json\n",
      "Renaming\n",
      "  TX/combined/2024-11-14_transcript.json\n",
      "→ TX/combined/TEXAS_PSC_2024-11-14.json\n",
      "Renaming Complete!\n"
     ]
    }
   ],
   "source": [
    "from datetime import datetime\n",
    "\n",
    "# directory = \"TX/combined\"\n",
    "directory = ''\n",
    "os.listdir(directory)\n",
    "for filename in os.listdir(directory):\n",
    "    if filename.endswith('.json'):\n",
    "        src = os.path.join(directory, filename)\n",
    "        newname = \"TEXAS_PSC_\" + filename[:-16] + \".json\"\n",
    "        dst = os.path.join(directory, newname)\n",
    "        print(f\"Renaming\\n  {src}\\n→ {dst}\")\n",
    "        os.rename(src, dst)\n",
    "    # print(filename[:-5])\n",
    "print(\"Renaming Complete!\")"
   ]
  },
  {
   "cell_type": "code",
   "execution_count": 71,
   "metadata": {},
   "outputs": [
    {
     "name": "stdout",
     "output_type": "stream",
     "text": [
      "Processing files in directory: ../../States/ArkansasComb/2\n",
      "Batch upload completed.\n"
     ]
    }
   ],
   "source": [
    "json_dir = '../../States/ArkansasComb/2'\n",
    "\n",
    "print(f\"Processing files in directory: {json_dir}\")\n",
    "\n",
    "# Get the transcripts collection\n",
    "transcripts = client.collections.get(\"TranscriptsV2\")\n",
    "\n",
    "with transcripts.batch.dynamic() as batch:\n",
    "    for filename in os.listdir(json_dir):\n",
    "        if not filename.endswith(\".json\"):\n",
    "            continue\n",
    "\n",
    "        file_path = os.path.join(json_dir, filename)\n",
    "        with open(file_path, \"r\") as f:\n",
    "            try:\n",
    "                data = json.load(f)\n",
    "                if isinstance(data, list):\n",
    "                    for item in data:\n",
    "                        if isinstance(item, dict):\n",
    "                            batch.add_object({\n",
    "                                \"text\":     item.get(\"text\", \"\"),\n",
    "                                \"start\":    item.get(\"start\", 0),\n",
    "                                \"duration\": item.get(\"duration\", 0),\n",
    "                                \"state\": \"ARK\",\n",
    "                                \"video_id\": filename[:-5]\n",
    "                            })\n",
    "                        else:\n",
    "                            print(f\"Skipping invalid entry in {filename}: {item}\")\n",
    "                else:\n",
    "                    print(f\"Unexpected JSON structure in {filename}: {type(data)}\")\n",
    "            except Exception as e:\n",
    "                print(f\"Failed to process {filename}: {e}\")\n",
    "                error_count += 1\n",
    "                if error_count > 10:\n",
    "                    print(\"Batch import stopped due to excessive errors.\")\n",
    "                    break\n",
    "\n",
    "# After the with‐block, inspect any failures\n",
    "failed = transcripts.batch.failed_objects\n",
    "if failed:\n",
    "    print(f\"Number of failed imports: {len(failed)}\")\n",
    "    print(f\"First failed object: {failed[0]}\")\n",
    "\n",
    "print(\"Batch upload completed.\")\n",
    "client.close()"
   ]
  },
  {
   "cell_type": "code",
   "execution_count": null,
   "metadata": {},
   "outputs": [
    {
     "ename": "WeaviateClosedClientError",
     "evalue": "The `WeaviateClient` is closed. Run `client.connect()` to (re)connect!",
     "output_type": "error",
     "traceback": [
      "\u001b[0;31m---------------------------------------------------------------------------\u001b[0m",
      "\u001b[0;31mWeaviateClosedClientError\u001b[0m                 Traceback (most recent call last)",
      "Cell \u001b[0;32mIn[76], line 5\u001b[0m\n\u001b[1;32m      3\u001b[0m collection \u001b[38;5;241m=\u001b[39m client\u001b[38;5;241m.\u001b[39mcollections\u001b[38;5;241m.\u001b[39mget(\u001b[38;5;124m\"\u001b[39m\u001b[38;5;124mTranscriptsV2\u001b[39m\u001b[38;5;124m\"\u001b[39m)\n\u001b[1;32m      4\u001b[0m state \u001b[38;5;241m=\u001b[39m \u001b[38;5;124m\"\u001b[39m\u001b[38;5;124mARK\u001b[39m\u001b[38;5;124m\"\u001b[39m\n\u001b[0;32m----> 5\u001b[0m resp \u001b[38;5;241m=\u001b[39m \u001b[43mcollection\u001b[49m\u001b[38;5;241;43m.\u001b[39;49m\u001b[43maggregate\u001b[49m\u001b[38;5;241;43m.\u001b[39;49m\u001b[43mover_all\u001b[49m\u001b[43m(\u001b[49m\n\u001b[1;32m      6\u001b[0m \u001b[43m    \u001b[49m\u001b[43mtotal_count\u001b[49m\u001b[38;5;241;43m=\u001b[39;49m\u001b[38;5;28;43;01mTrue\u001b[39;49;00m\u001b[43m,\u001b[49m\n\u001b[1;32m      7\u001b[0m \u001b[43m    \u001b[49m\u001b[43mfilters\u001b[49m\u001b[38;5;241;43m=\u001b[39;49m\u001b[43mFilter\u001b[49m\u001b[38;5;241;43m.\u001b[39;49m\u001b[43mby_property\u001b[49m\u001b[43m(\u001b[49m\u001b[38;5;124;43m\"\u001b[39;49m\u001b[38;5;124;43mstate\u001b[39;49m\u001b[38;5;124;43m\"\u001b[39;49m\u001b[43m)\u001b[49m\u001b[38;5;241;43m.\u001b[39;49m\u001b[43mequal\u001b[49m\u001b[43m(\u001b[49m\u001b[43mstate\u001b[49m\u001b[43m)\u001b[49m\n\u001b[1;32m      8\u001b[0m \u001b[43m)\u001b[49m \n\u001b[1;32m     10\u001b[0m \u001b[38;5;28mprint\u001b[39m(\u001b[38;5;124mf\u001b[39m\u001b[38;5;124m\"\u001b[39m\u001b[38;5;124mTotal \u001b[39m\u001b[38;5;132;01m{\u001b[39;00mstate\u001b[38;5;132;01m}\u001b[39;00m\u001b[38;5;124m objects:\u001b[39m\u001b[38;5;124m\"\u001b[39m, resp\u001b[38;5;241m.\u001b[39mtotal_count)\n\u001b[1;32m     12\u001b[0m client\u001b[38;5;241m.\u001b[39mclose()\n",
      "File \u001b[0;32m~/Library/Python/3.11/lib/python/site-packages/weaviate/syncify.py:23\u001b[0m, in \u001b[0;36mconvert.<locals>.sync_method\u001b[0;34m(self, __new_name, *args, **kwargs)\u001b[0m\n\u001b[1;32m     20\u001b[0m \u001b[38;5;129m@wraps\u001b[39m(method)  \u001b[38;5;66;03m# type: ignore\u001b[39;00m\n\u001b[1;32m     21\u001b[0m \u001b[38;5;28;01mdef\u001b[39;00m\u001b[38;5;250m \u001b[39m\u001b[38;5;21msync_method\u001b[39m(\u001b[38;5;28mself\u001b[39m, \u001b[38;5;241m*\u001b[39margs, __new_name\u001b[38;5;241m=\u001b[39mnew_name, \u001b[38;5;241m*\u001b[39m\u001b[38;5;241m*\u001b[39mkwargs):\n\u001b[1;32m     22\u001b[0m     async_func \u001b[38;5;241m=\u001b[39m \u001b[38;5;28mgetattr\u001b[39m(\u001b[38;5;28mcls\u001b[39m, __new_name)\n\u001b[0;32m---> 23\u001b[0m     \u001b[38;5;28;01mreturn\u001b[39;00m \u001b[43m_EventLoopSingleton\u001b[49m\u001b[38;5;241;43m.\u001b[39;49m\u001b[43mget_instance\u001b[49m\u001b[43m(\u001b[49m\u001b[43m)\u001b[49m\u001b[38;5;241;43m.\u001b[39;49m\u001b[43mrun_until_complete\u001b[49m\u001b[43m(\u001b[49m\n\u001b[1;32m     24\u001b[0m \u001b[43m        \u001b[49m\u001b[43masync_func\u001b[49m\u001b[43m,\u001b[49m\u001b[43m \u001b[49m\u001b[38;5;28;43mself\u001b[39;49m\u001b[43m,\u001b[49m\u001b[43m \u001b[49m\u001b[38;5;241;43m*\u001b[39;49m\u001b[43margs\u001b[49m\u001b[43m,\u001b[49m\u001b[43m \u001b[49m\u001b[38;5;241;43m*\u001b[39;49m\u001b[38;5;241;43m*\u001b[39;49m\u001b[43mkwargs\u001b[49m\n\u001b[1;32m     25\u001b[0m \u001b[43m    \u001b[49m\u001b[43m)\u001b[49m\n",
      "File \u001b[0;32m~/Library/Python/3.11/lib/python/site-packages/weaviate/event_loop.py:42\u001b[0m, in \u001b[0;36m_EventLoop.run_until_complete\u001b[0;34m(self, f, *args, **kwargs)\u001b[0m\n\u001b[1;32m     40\u001b[0m     \u001b[38;5;28;01mraise\u001b[39;00m WeaviateClosedClientError()\n\u001b[1;32m     41\u001b[0m fut \u001b[38;5;241m=\u001b[39m asyncio\u001b[38;5;241m.\u001b[39mrun_coroutine_threadsafe(f(\u001b[38;5;241m*\u001b[39margs, \u001b[38;5;241m*\u001b[39m\u001b[38;5;241m*\u001b[39mkwargs), \u001b[38;5;28mself\u001b[39m\u001b[38;5;241m.\u001b[39mloop)\n\u001b[0;32m---> 42\u001b[0m \u001b[38;5;28;01mreturn\u001b[39;00m \u001b[43mfut\u001b[49m\u001b[38;5;241;43m.\u001b[39;49m\u001b[43mresult\u001b[49m\u001b[43m(\u001b[49m\u001b[43m)\u001b[49m\n",
      "File \u001b[0;32m/Library/Frameworks/Python.framework/Versions/3.11/lib/python3.11/concurrent/futures/_base.py:456\u001b[0m, in \u001b[0;36mFuture.result\u001b[0;34m(self, timeout)\u001b[0m\n\u001b[1;32m    454\u001b[0m     \u001b[38;5;28;01mraise\u001b[39;00m CancelledError()\n\u001b[1;32m    455\u001b[0m \u001b[38;5;28;01melif\u001b[39;00m \u001b[38;5;28mself\u001b[39m\u001b[38;5;241m.\u001b[39m_state \u001b[38;5;241m==\u001b[39m FINISHED:\n\u001b[0;32m--> 456\u001b[0m     \u001b[38;5;28;01mreturn\u001b[39;00m \u001b[38;5;28;43mself\u001b[39;49m\u001b[38;5;241;43m.\u001b[39;49m\u001b[43m__get_result\u001b[49m\u001b[43m(\u001b[49m\u001b[43m)\u001b[49m\n\u001b[1;32m    457\u001b[0m \u001b[38;5;28;01melse\u001b[39;00m:\n\u001b[1;32m    458\u001b[0m     \u001b[38;5;28;01mraise\u001b[39;00m \u001b[38;5;167;01mTimeoutError\u001b[39;00m()\n",
      "File \u001b[0;32m/Library/Frameworks/Python.framework/Versions/3.11/lib/python3.11/concurrent/futures/_base.py:401\u001b[0m, in \u001b[0;36mFuture.__get_result\u001b[0;34m(self)\u001b[0m\n\u001b[1;32m    399\u001b[0m \u001b[38;5;28;01mif\u001b[39;00m \u001b[38;5;28mself\u001b[39m\u001b[38;5;241m.\u001b[39m_exception:\n\u001b[1;32m    400\u001b[0m     \u001b[38;5;28;01mtry\u001b[39;00m:\n\u001b[0;32m--> 401\u001b[0m         \u001b[38;5;28;01mraise\u001b[39;00m \u001b[38;5;28mself\u001b[39m\u001b[38;5;241m.\u001b[39m_exception\n\u001b[1;32m    402\u001b[0m     \u001b[38;5;28;01mfinally\u001b[39;00m:\n\u001b[1;32m    403\u001b[0m         \u001b[38;5;66;03m# Break a reference cycle with the exception in self._exception\u001b[39;00m\n\u001b[1;32m    404\u001b[0m         \u001b[38;5;28mself\u001b[39m \u001b[38;5;241m=\u001b[39m \u001b[38;5;28;01mNone\u001b[39;00m\n",
      "File \u001b[0;32m~/Library/Python/3.11/lib/python/site-packages/weaviate/collections/aggregations/over_all.py:51\u001b[0m, in \u001b[0;36m_OverAllAsync.over_all\u001b[0;34m(self, filters, group_by, total_count, return_metrics)\u001b[0m\n\u001b[1;32m     49\u001b[0m builder \u001b[38;5;241m=\u001b[39m \u001b[38;5;28mself\u001b[39m\u001b[38;5;241m.\u001b[39m_base(return_metrics, filters, total_count)\n\u001b[1;32m     50\u001b[0m builder \u001b[38;5;241m=\u001b[39m \u001b[38;5;28mself\u001b[39m\u001b[38;5;241m.\u001b[39m_add_groupby_to_builder(builder, group_by)\n\u001b[0;32m---> 51\u001b[0m res \u001b[38;5;241m=\u001b[39m \u001b[38;5;28;01mawait\u001b[39;00m \u001b[38;5;28mself\u001b[39m\u001b[38;5;241m.\u001b[39m_do(builder)\n\u001b[1;32m     52\u001b[0m \u001b[38;5;28;01mreturn\u001b[39;00m (\n\u001b[1;32m     53\u001b[0m     \u001b[38;5;28mself\u001b[39m\u001b[38;5;241m.\u001b[39m_to_aggregate_result(res, return_metrics)\n\u001b[1;32m     54\u001b[0m     \u001b[38;5;28;01mif\u001b[39;00m group_by \u001b[38;5;129;01mis\u001b[39;00m \u001b[38;5;28;01mNone\u001b[39;00m\n\u001b[1;32m     55\u001b[0m     \u001b[38;5;28;01melse\u001b[39;00m \u001b[38;5;28mself\u001b[39m\u001b[38;5;241m.\u001b[39m_to_group_by_result(res, return_metrics)\n\u001b[1;32m     56\u001b[0m )\n",
      "File \u001b[0;32m~/Library/Python/3.11/lib/python/site-packages/weaviate/collections/aggregations/aggregate.py:213\u001b[0m, in \u001b[0;36m_AggregateAsync._do\u001b[0;34m(self, query)\u001b[0m\n\u001b[1;32m    211\u001b[0m \u001b[38;5;28;01masync\u001b[39;00m \u001b[38;5;28;01mdef\u001b[39;00m\u001b[38;5;250m \u001b[39m\u001b[38;5;21m_do\u001b[39m(\u001b[38;5;28mself\u001b[39m, query: AggregateBuilder) \u001b[38;5;241m-\u001b[39m\u001b[38;5;241m>\u001b[39m \u001b[38;5;28mdict\u001b[39m:\n\u001b[1;32m    212\u001b[0m     \u001b[38;5;28;01mtry\u001b[39;00m:\n\u001b[0;32m--> 213\u001b[0m         response \u001b[38;5;241m=\u001b[39m \u001b[38;5;28;01mawait\u001b[39;00m \u001b[38;5;28mself\u001b[39m\u001b[38;5;241m.\u001b[39m_connection\u001b[38;5;241m.\u001b[39mpost(\n\u001b[1;32m    214\u001b[0m             path\u001b[38;5;241m=\u001b[39m\u001b[38;5;124m\"\u001b[39m\u001b[38;5;124m/graphql\u001b[39m\u001b[38;5;124m\"\u001b[39m, weaviate_object\u001b[38;5;241m=\u001b[39m{\u001b[38;5;124m\"\u001b[39m\u001b[38;5;124mquery\u001b[39m\u001b[38;5;124m\"\u001b[39m: query\u001b[38;5;241m.\u001b[39mbuild()}\n\u001b[1;32m    215\u001b[0m         )\n\u001b[1;32m    216\u001b[0m     \u001b[38;5;28;01mexcept\u001b[39;00m ConnectError \u001b[38;5;28;01mas\u001b[39;00m conn_err:\n\u001b[1;32m    217\u001b[0m         \u001b[38;5;28;01mraise\u001b[39;00m ConnectError(\u001b[38;5;124m\"\u001b[39m\u001b[38;5;124mQuery was not successful.\u001b[39m\u001b[38;5;124m\"\u001b[39m) \u001b[38;5;28;01mfrom\u001b[39;00m\u001b[38;5;250m \u001b[39m\u001b[38;5;21;01mconn_err\u001b[39;00m\n",
      "File \u001b[0;32m~/Library/Python/3.11/lib/python/site-packages/weaviate/connect/v4.py:534\u001b[0m, in \u001b[0;36mConnectionV4.post\u001b[0;34m(self, path, weaviate_object, params, error_msg, status_codes, is_gql_query)\u001b[0m\n\u001b[1;32m    525\u001b[0m \u001b[38;5;28;01masync\u001b[39;00m \u001b[38;5;28;01mdef\u001b[39;00m\u001b[38;5;250m \u001b[39m\u001b[38;5;21mpost\u001b[39m(\n\u001b[1;32m    526\u001b[0m     \u001b[38;5;28mself\u001b[39m,\n\u001b[1;32m    527\u001b[0m     path: \u001b[38;5;28mstr\u001b[39m,\n\u001b[0;32m   (...)\u001b[0m\n\u001b[1;32m    532\u001b[0m     is_gql_query: \u001b[38;5;28mbool\u001b[39m \u001b[38;5;241m=\u001b[39m \u001b[38;5;28;01mFalse\u001b[39;00m,\n\u001b[1;32m    533\u001b[0m ) \u001b[38;5;241m-\u001b[39m\u001b[38;5;241m>\u001b[39m Response:\n\u001b[0;32m--> 534\u001b[0m     \u001b[38;5;28;01mreturn\u001b[39;00m \u001b[38;5;28;01mawait\u001b[39;00m \u001b[38;5;28mself\u001b[39m\u001b[38;5;241m.\u001b[39m__send(\n\u001b[1;32m    535\u001b[0m         \u001b[38;5;124m\"\u001b[39m\u001b[38;5;124mPOST\u001b[39m\u001b[38;5;124m\"\u001b[39m,\n\u001b[1;32m    536\u001b[0m         url\u001b[38;5;241m=\u001b[39m\u001b[38;5;28mself\u001b[39m\u001b[38;5;241m.\u001b[39murl \u001b[38;5;241m+\u001b[39m \u001b[38;5;28mself\u001b[39m\u001b[38;5;241m.\u001b[39m_api_version_path \u001b[38;5;241m+\u001b[39m path,\n\u001b[1;32m    537\u001b[0m         weaviate_object\u001b[38;5;241m=\u001b[39mweaviate_object,\n\u001b[1;32m    538\u001b[0m         params\u001b[38;5;241m=\u001b[39mparams,\n\u001b[1;32m    539\u001b[0m         error_msg\u001b[38;5;241m=\u001b[39merror_msg,\n\u001b[1;32m    540\u001b[0m         status_codes\u001b[38;5;241m=\u001b[39mstatus_codes,\n\u001b[1;32m    541\u001b[0m         is_gql_query\u001b[38;5;241m=\u001b[39mis_gql_query,\n\u001b[1;32m    542\u001b[0m     )\n",
      "File \u001b[0;32m~/Library/Python/3.11/lib/python/site-packages/weaviate/connect/v4.py:463\u001b[0m, in \u001b[0;36mConnectionV4.__send\u001b[0;34m(self, method, url, error_msg, status_codes, is_gql_query, weaviate_object, params)\u001b[0m\n\u001b[1;32m    452\u001b[0m \u001b[38;5;28;01masync\u001b[39;00m \u001b[38;5;28;01mdef\u001b[39;00m\u001b[38;5;250m \u001b[39m\u001b[38;5;21m__send\u001b[39m(\n\u001b[1;32m    453\u001b[0m     \u001b[38;5;28mself\u001b[39m,\n\u001b[1;32m    454\u001b[0m     method: Literal[\u001b[38;5;124m\"\u001b[39m\u001b[38;5;124mDELETE\u001b[39m\u001b[38;5;124m\"\u001b[39m, \u001b[38;5;124m\"\u001b[39m\u001b[38;5;124mGET\u001b[39m\u001b[38;5;124m\"\u001b[39m, \u001b[38;5;124m\"\u001b[39m\u001b[38;5;124mHEAD\u001b[39m\u001b[38;5;124m\"\u001b[39m, \u001b[38;5;124m\"\u001b[39m\u001b[38;5;124mPATCH\u001b[39m\u001b[38;5;124m\"\u001b[39m, \u001b[38;5;124m\"\u001b[39m\u001b[38;5;124mPOST\u001b[39m\u001b[38;5;124m\"\u001b[39m, \u001b[38;5;124m\"\u001b[39m\u001b[38;5;124mPUT\u001b[39m\u001b[38;5;124m\"\u001b[39m],\n\u001b[0;32m   (...)\u001b[0m\n\u001b[1;32m    460\u001b[0m     params: Optional[Dict[\u001b[38;5;28mstr\u001b[39m, Any]] \u001b[38;5;241m=\u001b[39m \u001b[38;5;28;01mNone\u001b[39;00m,\n\u001b[1;32m    461\u001b[0m ) \u001b[38;5;241m-\u001b[39m\u001b[38;5;241m>\u001b[39m Response:\n\u001b[1;32m    462\u001b[0m     \u001b[38;5;28;01mif\u001b[39;00m \u001b[38;5;129;01mnot\u001b[39;00m \u001b[38;5;28mself\u001b[39m\u001b[38;5;241m.\u001b[39mis_connected():\n\u001b[0;32m--> 463\u001b[0m         \u001b[38;5;28;01mraise\u001b[39;00m WeaviateClosedClientError()\n\u001b[1;32m    464\u001b[0m     \u001b[38;5;28;01mif\u001b[39;00m \u001b[38;5;28mself\u001b[39m\u001b[38;5;241m.\u001b[39membedded_db \u001b[38;5;129;01mis\u001b[39;00m \u001b[38;5;129;01mnot\u001b[39;00m \u001b[38;5;28;01mNone\u001b[39;00m:\n\u001b[1;32m    465\u001b[0m         \u001b[38;5;28mself\u001b[39m\u001b[38;5;241m.\u001b[39membedded_db\u001b[38;5;241m.\u001b[39mensure_running()\n",
      "\u001b[0;31mWeaviateClosedClientError\u001b[0m: The `WeaviateClient` is closed. Run `client.connect()` to (re)connect!"
     ]
    }
   ],
   "source": [
    "from weaviate.classes.query import Filter\n",
    "\n",
    "## Helper function that finds and lists count of objects under a specific key in the collection\n",
    "\n",
    "collection = client.collections.get(\"TranscriptsV2\")\n",
    "state = \"ARK\"\n",
    "resp = collection.aggregate.over_all(\n",
    "    total_count=True,\n",
    "    filters=Filter.by_property(\"state\").equal(state)\n",
    ") \n",
    "\n",
    "print(f\"Total {state} objects:\", resp.total_count)\n",
    "\n",
    "client.close()\n"
   ]
  },
  {
   "cell_type": "code",
   "execution_count": null,
   "metadata": {},
   "outputs": [
    {
     "name": "stdout",
     "output_type": "stream",
     "text": [
      "Found 0 matching records:\n"
     ]
    }
   ],
   "source": [
    "## More complex filtering process. Helper function to check uploads\n",
    "\n",
    "# build each individual filter\n",
    "state_filter  = Filter.by_property(\"state\").equal(\"NOLA\")\n",
    "docket_filter = Filter.by_property(\"video_id\").like(\"Commission Hearing in Docket No\")\n",
    "\n",
    "compound = (\n",
    "    Filter.by_property(\"state\").equal(\"NOLA\")\n",
    "    & Filter.by_property(\"video_id\").like(\"Commission Hearing in Docket No\")\n",
    ")\n",
    "\n",
    "\n",
    "collection.data.delete_many(where=compound)\n",
    "\n",
    "\n",
    "# fetch all matching objects (page through if more than `limit`)\n",
    "resp = collection.query.fetch_objects(\n",
    "    filters=compound,\n",
    "    limit=10000\n",
    ")\n",
    "\n",
    "\n",
    "\n",
    "print(f\"Found {len(resp.objects)} matching records:\")\n",
    "for obj in resp.objects:\n",
    "    print(\" •\", obj.uuid, obj.properties[\"video_id\"])\n",
    "\n"
   ]
  },
  {
   "cell_type": "code",
   "execution_count": null,
   "metadata": {},
   "outputs": [
    {
     "name": "stdout",
     "output_type": "stream",
     "text": [
      "Processing state: NOLA\n"
     ]
    },
    {
     "name": "stderr",
     "output_type": "stream",
     "text": [
      "/Library/Frameworks/Python.framework/Versions/3.11/lib/python3.11/asyncio/selector_events.py:843: ResourceWarning: unclosed transport <_SelectorSocketTransport fd=78 read=idle write=<idle, bufsize=0>>\n",
      "  _warn(f\"unclosed transport {self!r}\", ResourceWarning, source=self)\n",
      "ResourceWarning: Enable tracemalloc to get the object allocation traceback\n"
     ]
    },
    {
     "name": "stdout",
     "output_type": "stream",
     "text": [
      "Batch upload completed.\n"
     ]
    }
   ],
   "source": [
    "json_dir = \"../../States/Done\"\n",
    "\n",
    "transcripts = client.collections.get(\"TranscriptsV2\")\n",
    "state_dirs = [d for d in os.listdir(json_dir) if os.path.isdir(os.path.join(json_dir, d))]\n",
    "\n",
    "\n",
    "error_count = 0\n",
    "for state in state_dirs:\n",
    "    state_dir = os.path.join(json_dir, state)\n",
    "    print(f\"Processing state: {state}\")\n",
    "\n",
    "    # Get the transcripts collection\n",
    "    transcripts = client.collections.get(\"TranscriptsV2\")\n",
    "\n",
    "    with transcripts.batch.dynamic() as batch:\n",
    "        for filename in os.listdir(state_dir):\n",
    "            if filename.endswith('.json'):\n",
    "                file_path = os.path.join(state_dir, filename)\n",
    "                with open(file_path, \"r\") as f:\n",
    "                    try:\n",
    "                        data = json.load(f)\n",
    "                        if isinstance(data, list):\n",
    "                            for item in data:\n",
    "                                if isinstance(item, dict):\n",
    "                                    batch.add_object({\n",
    "                                        \"text\": item.get(\"text\", \"\"),\n",
    "                                        \"start\": item.get(\"start\", 0),\n",
    "                                        \"duration\": item.get(\"duration\", 0),\n",
    "                                        \"state\": state  # Add the state name from the directory\n",
    "                                    })\n",
    "                                else:\n",
    "                                    print(f\"Skipping invalid entry in {filename}: {item}\")\n",
    "                        else:\n",
    "                            print(f\"Unexpected JSON structure in {filename}: {type(data)}\")\n",
    "                    except Exception as e:\n",
    "                        print(f\"Failed to process {filename}: {e}\")\n",
    "                        error_count += 1\n",
    "                        if error_count > 10:\n",
    "                            print(\"Batch import stopped due to excessive errors.\")\n",
    "                            break\n",
    "\n",
    "    failed_objects = transcripts.batch.failed_objects\n",
    "    if failed_objects:\n",
    "        print(f\"Number of failed imports for {state}: {len(failed_objects)}\")\n",
    "        print(f\"First failed object: {failed_objects[0]}\")\n",
    "\n",
    "print(\"Batch upload completed.\")\n"
   ]
  },
  {
   "cell_type": "code",
   "execution_count": 4,
   "metadata": {},
   "outputs": [
    {
     "name": "stdout",
     "output_type": "stream",
     "text": [
      "Current working directory: /Users/jackzemke/Desktop/Entergy/Entergy-AI/RAG\n"
     ]
    }
   ],
   "source": [
    "current_dir = os.getcwd()\n",
    "print(f\"Current working directory: {current_dir}\")"
   ]
  },
  {
   "cell_type": "code",
   "execution_count": null,
   "metadata": {},
   "outputs": [
    {
     "name": "stdout",
     "output_type": "stream",
     "text": [
      "Processing directory: /Users/petersapountzis/Desktop/tulane/spring2025/cmps4010/Entergy-AI/parsers/ARK_PSC_transcripts\n",
      "Processing directory: /Users/petersapountzis/Desktop/tulane/spring2025/cmps4010/Entergy-AI/parsers/LA_PSC_transcripts\n",
      "Processing directory: /Users/petersapountzis/Desktop/tulane/spring2025/cmps4010/Entergy-AI/parsers/MISS_PSC_transcripts\n",
      "Batch upload completed.\n"
     ]
    }
   ],
   "source": [
    "transcripts = client.collections.get(\"TranscriptsV2\")\n",
    "\n",
    "\n",
    "json_dir = \"/Users/jackzemke/Desktop/Entergy/Entergy-AI/RAG\"  # Root directory for parsers\n",
    "transcript_dirs = [\n",
    "    os.path.join(json_dir, \"NOLA_transcripts\")\n",
    "]\n",
    "\n",
    "window_size = 3  # Number of segments to combine\n",
    "error_count = 0\n",
    "for transcript_dir in transcript_dirs:\n",
    "    # Extract state from directory name\n",
    "    state_match = re.search(r'([A-Z]+)_PSC', os.path.basename(transcript_dir))\n",
    "    # state = state_match.group(1) if state_match else \"unknown\"\n",
    "    state = \"NOLA\"\n",
    "    \n",
    "    print(f\"Processing directory: {transcript_dir}\")\n",
    "    \n",
    "    with transcripts.batch.dynamic() as batch:\n",
    "        for filename in os.listdir(transcript_dir):\n",
    "            if filename.endswith('.json'):\n",
    "                file_path = os.path.join(transcript_dir, filename)\n",
    "                try:\n",
    "                    with open(file_path, \"r\") as f:\n",
    "                        data = json.load(f)\n",
    "                        \n",
    "                        # Extract video ID from filename\n",
    "                        video_id = os.path.splitext(filename)[0]\n",
    "                        \n",
    "                        if isinstance(data, list):\n",
    "                            # Combine segments for better context\n",
    "                            combined_data = combine_segments(data, window_size, video_id)\n",
    "                            \n",
    "                            for item in combined_data:\n",
    "                                if isinstance(item, dict):\n",
    "                                    # Add state to the object\n",
    "                                    item[\"state\"] = state\n",
    "                                    batch.add_object(item)\n",
    "                                else:\n",
    "                                    print(f\"Skipping invalid entry in {filename}: {item}\")\n",
    "                        else:\n",
    "                            print(f\"Unexpected JSON structure in {filename}: {type(data)}\")\n",
    "                except Exception as e:\n",
    "                    print(f\"Failed to process {filename}: {e}\")\n",
    "                    error_count += 1\n",
    "                    if error_count > 10:\n",
    "                        print(\"Batch import stopped due to excessive errors.\")\n",
    "                        break\n",
    "\n",
    "    failed_objects = transcripts.batch.failed_objects\n",
    "    if failed_objects:\n",
    "        print(f\"Number of failed imports for {state}: {len(failed_objects)}\")\n",
    "        print(f\"First failed object: {failed_objects[0]}\")\n",
    "\n",
    "print(\"Batch upload completed.\")\n"
   ]
  },
  {
   "cell_type": "code",
   "execution_count": null,
   "metadata": {},
   "outputs": [],
   "source": []
  }
 ],
 "metadata": {
  "kernelspec": {
   "display_name": "Python 3",
   "language": "python",
   "name": "python3"
  },
  "language_info": {
   "codemirror_mode": {
    "name": "ipython",
    "version": 3
   },
   "file_extension": ".py",
   "mimetype": "text/x-python",
   "name": "python",
   "nbconvert_exporter": "python",
   "pygments_lexer": "ipython3",
   "version": "3.11.1"
  }
 },
 "nbformat": 4,
 "nbformat_minor": 2
}
