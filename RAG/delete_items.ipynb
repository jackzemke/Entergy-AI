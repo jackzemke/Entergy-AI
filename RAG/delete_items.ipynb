{
 "cells": [
  {
   "cell_type": "code",
   "execution_count": 1,
   "metadata": {},
   "outputs": [],
   "source": [
    "# Simple script to delete all New Orleans objects\n",
    "import weaviate\n",
    "from dotenv import load_dotenv\n",
    "import os\n",
    "\n",
    "# Set up environment\n",
    "load_dotenv()\n",
    "\n",
    "# Create Weaviate client\n",
    "client = weaviate.connect_to_weaviate_cloud(\n",
    "    cluster_url=os.getenv('WEAVIATE_URL'),\n",
    "    auth_credentials=weaviate.classes.init.Auth.api_key(os.getenv('WEAVIATE_KEY')),\n",
    "    headers={\"X-Cohere-Api-Key\": os.getenv('COHERE_KEY')}\n",
    ")\n",
    "\n"
   ]
  },
  {
   "cell_type": "code",
   "execution_count": 2,
   "metadata": {},
   "outputs": [
    {
     "ename": "AttributeError",
     "evalue": "'AggregateReturn' object has no attribute 'with_where'",
     "output_type": "error",
     "traceback": [
      "\u001b[0;31m---------------------------------------------------------------------------\u001b[0m",
      "\u001b[0;31mAttributeError\u001b[0m                            Traceback (most recent call last)",
      "Cell \u001b[0;32mIn[2], line 13\u001b[0m\n\u001b[1;32m      6\u001b[0m where_filter \u001b[38;5;241m=\u001b[39m {\n\u001b[1;32m      7\u001b[0m     \u001b[38;5;124m\"\u001b[39m\u001b[38;5;124mpath\u001b[39m\u001b[38;5;124m\"\u001b[39m: [\u001b[38;5;124m\"\u001b[39m\u001b[38;5;124mstate\u001b[39m\u001b[38;5;124m\"\u001b[39m],\n\u001b[1;32m      8\u001b[0m     \u001b[38;5;124m\"\u001b[39m\u001b[38;5;124moperator\u001b[39m\u001b[38;5;124m\"\u001b[39m: \u001b[38;5;124m\"\u001b[39m\u001b[38;5;124mEqual\u001b[39m\u001b[38;5;124m\"\u001b[39m,\n\u001b[1;32m      9\u001b[0m     \u001b[38;5;124m\"\u001b[39m\u001b[38;5;124mvalueString\u001b[39m\u001b[38;5;124m\"\u001b[39m: \u001b[38;5;124m\"\u001b[39m\u001b[38;5;124mNOLA\u001b[39m\u001b[38;5;124m\"\u001b[39m  \u001b[38;5;66;03m# Adjust if your database uses a different code for New Orleans\u001b[39;00m\n\u001b[1;32m     10\u001b[0m }\n\u001b[1;32m     12\u001b[0m \u001b[38;5;66;03m# Count objects before deletion\u001b[39;00m\n\u001b[0;32m---> 13\u001b[0m count_result \u001b[38;5;241m=\u001b[39m \u001b[43mcollection\u001b[49m\u001b[38;5;241;43m.\u001b[39;49m\u001b[43maggregate\u001b[49m\u001b[38;5;241;43m.\u001b[39;49m\u001b[43mover_all\u001b[49m\u001b[43m(\u001b[49m\u001b[43m)\u001b[49m\u001b[38;5;241;43m.\u001b[39;49m\u001b[43mwith_where\u001b[49m(where_filter)\u001b[38;5;241m.\u001b[39mwith_meta_count()\u001b[38;5;241m.\u001b[39mdo()\n\u001b[1;32m     14\u001b[0m total_count \u001b[38;5;241m=\u001b[39m count_result[\u001b[38;5;124m'\u001b[39m\u001b[38;5;124mdata\u001b[39m\u001b[38;5;124m'\u001b[39m][\u001b[38;5;124m'\u001b[39m\u001b[38;5;124mAggregate\u001b[39m\u001b[38;5;124m'\u001b[39m][collection_name][\u001b[38;5;241m0\u001b[39m][\u001b[38;5;124m'\u001b[39m\u001b[38;5;124mmeta\u001b[39m\u001b[38;5;124m'\u001b[39m][\u001b[38;5;124m'\u001b[39m\u001b[38;5;124mcount\u001b[39m\u001b[38;5;124m'\u001b[39m]\n\u001b[1;32m     15\u001b[0m \u001b[38;5;28mprint\u001b[39m(\u001b[38;5;124mf\u001b[39m\u001b[38;5;124m\"\u001b[39m\u001b[38;5;124mFound \u001b[39m\u001b[38;5;132;01m{\u001b[39;00mtotal_count\u001b[38;5;132;01m}\u001b[39;00m\u001b[38;5;124m New Orleans objects to delete\u001b[39m\u001b[38;5;124m\"\u001b[39m)\n",
      "\u001b[0;31mAttributeError\u001b[0m: 'AggregateReturn' object has no attribute 'with_where'"
     ]
    }
   ],
   "source": [
    "# Get the collection\n",
    "collection_name = \"TranscriptsV2\"\n",
    "collection = client.collections.get(collection_name)\n",
    "\n",
    "# Set up filter for New Orleans objects (could be \"NO\" or \"NOLA\")\n",
    "where_filter = {\n",
    "    \"path\": [\"state\"],\n",
    "    \"operator\": \"Equal\",\n",
    "    \"valueString\": \"NOLA\"  # Adjust if your database uses a different code for New Orleans\n",
    "}\n",
    "\n",
    "# Count objects before deletion\n",
    "count_result = collection.aggregate.over_all().with_where(where_filter).with_meta_count().do()\n",
    "total_count = count_result['data']['Aggregate'][collection_name][0]['meta']['count']\n",
    "print(f\"Found {total_count} New Orleans objects to delete\")\n",
    "\n",
    "# Perform deletion\n",
    "result = collection.data.delete_many(where=where_filter)\n",
    "print(f\"Deletion completed:\")\n",
    "print(f\"- Successfully deleted: {result.successful} objects\")\n",
    "print(f\"- Failed to delete: {result.failed} objects\")\n",
    "\n",
    "# Verify deletion\n",
    "verify_count = collection.aggregate.over_all().with_where(where_filter).with_meta_count().do()\n",
    "remaining = verify_count['data']['Aggregate'][collection_name][0]['meta']['count']\n",
    "print(f\"Remaining New Orleans objects: {remaining}\")"
   ]
  },
  {
   "cell_type": "code",
   "execution_count": null,
   "metadata": {},
   "outputs": [],
   "source": []
  }
 ],
 "metadata": {
  "kernelspec": {
   "display_name": "Python 3",
   "language": "python",
   "name": "python3"
  },
  "language_info": {
   "codemirror_mode": {
    "name": "ipython",
    "version": 3
   },
   "file_extension": ".py",
   "mimetype": "text/x-python",
   "name": "python",
   "nbconvert_exporter": "python",
   "pygments_lexer": "ipython3",
   "version": "3.12.5"
  }
 },
 "nbformat": 4,
 "nbformat_minor": 2
}
