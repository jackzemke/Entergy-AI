{
 "cells": [
  {
   "cell_type": "code",
   "execution_count": 1,
   "metadata": {},
   "outputs": [
    {
     "name": "stdout",
     "output_type": "stream",
     "text": [
      "cleaned_earnings_qa_2015-4-28.csv: 20 rows\n",
      "cleaned_earnings_qa_2021-4-28.csv: 23 rows\n",
      "cleaned_earnings_qa_2019-10-30.csv: 11 rows\n",
      "cleaned_earnings_qa_2016-2-18.csv: 21 rows\n",
      "cleaned_earnings_qa_2022-2-23.csv: 20 rows\n",
      "cleaned_earnings_qa_2021-8-04.csv: 19 rows\n",
      "cleaned_earnings_qa_2019-7-31.csv: 12 rows\n",
      "cleaned_earnings_qa_2024-4-24.csv: 22 rows\n",
      "cleaned_earnings_qa_2013-7-30.csv: 19 rows\n",
      "cleaned_earnings_qa_2015-8-04.csv: 18 rows\n",
      "cleaned_earnings_qa_2015-11-02.csv: 29 rows\n",
      "cleaned_earnings_qa_2022-4-27.csv: 25 rows\n",
      "cleaned_earnings_qa_2024-2-22.csv: 8 rows\n",
      "cleaned_earnings_qa_2023-4-26.csv: 14 rows\n",
      "cleaned_earnings_qa_2014-11-04.csv: 29 rows\n",
      "cleaned_earnings_qa_2016-4-26.csv: 24 rows\n",
      "cleaned_earnings_qa_2017-4-26.csv: 19 rows\n",
      "cleaned_earnings_qa_2018-10-31.csv: 14 rows\n",
      "cleaned_earnings_qa_2015-2-05.csv: 18 rows\n",
      "cleaned_earnings_qa_2014-2-11.csv: 21 rows\n",
      "cleaned_earnings_qa_2018-8-01.csv: 9 rows\n",
      "cleaned_earnings_qa_2021-11-03.csv: 15 rows\n",
      "cleaned_earnings_qa_2012-11-05.csv: 11 rows\n",
      "cleaned_earnings_qa_2016-10-25.csv: 20 rows\n",
      "cleaned_earnings_qa_2018-4-25.csv: 20 rows\n",
      "cleaned_earnings_qa_2013-4-25.csv: 18 rows\n",
      "cleaned_earnings_qa_2013-10-29.csv: 22 rows\n",
      "cleaned_earnings_qa_2017-8-02.csv: 20 rows\n",
      "cleaned_earnings_qa_2016-8-02.csv: 21 rows\n",
      "cleaned_earnings_qa_2014-7-29.csv: 15 rows\n",
      "cleaned_earnings_qa_2020-7-29.csv: 23 rows\n",
      "cleaned_earnings_qa_2022-8-03.csv: 19 rows\n",
      "cleaned_earnings_qa_2022-11-02.csv: 20 rows\n",
      "cleaned_earnings_qa_2020-2-19.csv: 20 rows\n",
      "cleaned_earnings_qa_2020-5-11.csv: 22 rows\n",
      "cleaned_earnings_qa_2021-2-24.csv: 29 rows\n",
      "cleaned_earnings_qa_2020-10-28.csv: 23 rows\n",
      "cleaned_earnings_qa_2023-8-02.csv: 12 rows\n",
      "cleaned_earnings_qa_2024-8-01.csv: 19 rows\n",
      "cleaned_earnings_qa_2017-10-24.csv: 15 rows\n",
      "cleaned_earnings_qa_2023-11-01.csv: 22 rows\n",
      "cleaned_earnings_qa_2023-2-16.csv: 21 rows\n",
      "cleaned_earnings_qa_2017-2-15.csv: 17 rows\n",
      "cleaned_earnings_qa_2019-2-20.csv: 22 rows\n",
      "cleaned_earnings_qa_2019-5-01.csv: 15 rows\n",
      "cleaned_earnings_qa_2013-2-08.csv: 13 rows\n",
      "cleaned_earnings_qa_2018-2-23.csv: 26 rows\n",
      "cleaned_earnings_qa_2014-4-24.csv: 23 rows\n",
      "\n",
      "Total rows across all CSVs: 918\n"
     ]
    }
   ],
   "source": [
    "import os\n",
    "import pandas as pd\n",
    "\n",
    "def count_rows_in_csvs(folder_path):\n",
    "    total_rows = 0\n",
    "\n",
    "    # Loop through all files in the specified folder\n",
    "    for filename in os.listdir(folder_path):\n",
    "        # Check if the file is a CSV\n",
    "        if filename.endswith(\".csv\"):\n",
    "            file_path = os.path.join(folder_path, filename)\n",
    "            try:\n",
    "                # Read the CSV file into a pandas DataFrame\n",
    "                df = pd.read_csv(file_path)\n",
    "                # Add the number of rows in the current file to the total count\n",
    "                total_rows += len(df)\n",
    "                print(f\"{filename}: {len(df)} rows\")\n",
    "            except Exception as e:\n",
    "                print(f\"Error processing {filename}: {e}\")\n",
    "    \n",
    "    print(f\"\\nTotal rows across all CSVs: {total_rows}\")\n",
    "\n",
    "folder_path = '/Users/petersapountzis/Desktop/tulane/fall2024/cmps4010/Entergy-AI/data/clean_QAs'\n",
    "count_rows_in_csvs(folder_path)\n"
   ]
  },
  {
   "cell_type": "code",
   "execution_count": null,
   "metadata": {},
   "outputs": [],
   "source": []
  }
 ],
 "metadata": {
  "kernelspec": {
   "display_name": "Python (vibes env)",
   "language": "python",
   "name": "env"
  },
  "language_info": {
   "codemirror_mode": {
    "name": "ipython",
    "version": 3
   },
   "file_extension": ".py",
   "mimetype": "text/x-python",
   "name": "python",
   "nbconvert_exporter": "python",
   "pygments_lexer": "ipython3",
   "version": "3.8.5"
  }
 },
 "nbformat": 4,
 "nbformat_minor": 2
}
